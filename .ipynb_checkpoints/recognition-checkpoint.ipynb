{
 "cells": [
  {
   "cell_type": "code",
   "execution_count": 1,
   "metadata": {},
   "outputs": [
    {
     "name": "stderr",
     "output_type": "stream",
     "text": [
      "/anaconda3/lib/python3.6/site-packages/h5py/__init__.py:36: FutureWarning: Conversion of the second argument of issubdtype from `float` to `np.floating` is deprecated. In future, it will be treated as `np.float64 == np.dtype(float).type`.\n",
      "  from ._conv import register_converters as _register_converters\n",
      "Using TensorFlow backend.\n"
     ]
    }
   ],
   "source": [
    "import numpy\n",
    "from keras.datasets import cifar10\n",
    "from keras.models import Sequential\n",
    "from keras.layers import Dense\n",
    "from keras.layers import Dropout\n",
    "from keras.layers import Flatten\n",
    "from keras.constraints import maxnorm\n",
    "from keras.optimizers import SGD\n",
    "from keras.layers.convolutional import Conv2D\n",
    "from keras.layers.convolutional import MaxPooling2D\n",
    "from keras.utils import np_utils\n",
    "from keras import backend as K\n",
    "K.set_image_dim_ordering('th')\n",
    "import tensorflow as tf\n",
    "# fix random seed for reproducibility\n",
    "seed = 7\n",
    "numpy.random.seed(seed)\n",
    "# load data\n",
    "(X_train, y_train), (X_test, y_test) = cifar10.load_data()\n",
    "# normalize inputs from 0-255 to 0.0-1.0\n",
    "X_train = X_train.astype('float32')\n",
    "X_test = X_test.astype('float32')\n",
    "X_train = X_train / 255.0\n",
    "X_test = X_test / 255.0\n",
    "# one hot encode outputs\n",
    "y_train = np_utils.to_categorical(y_train)\n",
    "y_test = np_utils.to_categorical(y_test)\n",
    "num_classes = y_test.shape[1]"
   ]
  },
  {
   "cell_type": "code",
   "execution_count": 2,
   "metadata": {
    "scrolled": true
   },
   "outputs": [
    {
     "name": "stdout",
     "output_type": "stream",
     "text": [
      "_________________________________________________________________\n",
      "Layer (type)                 Output Shape              Param #   \n",
      "=================================================================\n",
      "conv2d_1 (Conv2D)            (None, 32, 32, 32)        896       \n",
      "_________________________________________________________________\n",
      "dropout_1 (Dropout)          (None, 32, 32, 32)        0         \n",
      "_________________________________________________________________\n",
      "conv2d_2 (Conv2D)            (None, 32, 32, 32)        9248      \n",
      "_________________________________________________________________\n",
      "max_pooling2d_1 (MaxPooling2 (None, 32, 16, 16)        0         \n",
      "_________________________________________________________________\n",
      "conv2d_3 (Conv2D)            (None, 64, 16, 16)        18496     \n",
      "_________________________________________________________________\n",
      "dropout_2 (Dropout)          (None, 64, 16, 16)        0         \n",
      "_________________________________________________________________\n",
      "conv2d_4 (Conv2D)            (None, 64, 16, 16)        36928     \n",
      "_________________________________________________________________\n",
      "max_pooling2d_2 (MaxPooling2 (None, 64, 8, 8)          0         \n",
      "_________________________________________________________________\n",
      "conv2d_5 (Conv2D)            (None, 128, 8, 8)         73856     \n",
      "_________________________________________________________________\n",
      "dropout_3 (Dropout)          (None, 128, 8, 8)         0         \n",
      "_________________________________________________________________\n",
      "conv2d_6 (Conv2D)            (None, 128, 8, 8)         147584    \n",
      "_________________________________________________________________\n",
      "max_pooling2d_3 (MaxPooling2 (None, 128, 4, 4)         0         \n",
      "_________________________________________________________________\n",
      "flatten_1 (Flatten)          (None, 2048)              0         \n",
      "_________________________________________________________________\n",
      "dropout_4 (Dropout)          (None, 2048)              0         \n",
      "_________________________________________________________________\n",
      "dense_1 (Dense)              (None, 1024)              2098176   \n",
      "_________________________________________________________________\n",
      "dropout_5 (Dropout)          (None, 1024)              0         \n",
      "_________________________________________________________________\n",
      "dense_2 (Dense)              (None, 512)               524800    \n",
      "_________________________________________________________________\n",
      "dropout_6 (Dropout)          (None, 512)               0         \n",
      "_________________________________________________________________\n",
      "dense_3 (Dense)              (None, 10)                5130      \n",
      "=================================================================\n",
      "Total params: 2,915,114\n",
      "Trainable params: 2,915,114\n",
      "Non-trainable params: 0\n",
      "_________________________________________________________________\n",
      "None\n",
      "WARNING:tensorflow:Variable *= will be deprecated. Use variable.assign_mul if you want assignment to the variable value or 'x = x * y' if you want a new python Tensor object.\n",
      "Train on 50000 samples, validate on 10000 samples\n",
      "Epoch 1/50\n",
      "50000/50000 [==============================] - 1249s 25ms/step - loss: 1.8801 - acc: 0.3037 - val_loss: 1.5148 - val_acc: 0.4491\n",
      "Epoch 2/50\n",
      "50000/50000 [==============================] - 1613s 32ms/step - loss: 1.4317 - acc: 0.4768 - val_loss: 1.2680 - val_acc: 0.5407\n",
      "Epoch 3/50\n",
      "50000/50000 [==============================] - 1455s 29ms/step - loss: 1.2252 - acc: 0.5565 - val_loss: 1.1643 - val_acc: 0.5927\n",
      "Epoch 4/50\n",
      "50000/50000 [==============================] - 1401s 28ms/step - loss: 1.0481 - acc: 0.6263 - val_loss: 0.9965 - val_acc: 0.6414\n",
      "Epoch 5/50\n",
      "50000/50000 [==============================] - 1361s 27ms/step - loss: 0.9077 - acc: 0.6803 - val_loss: 0.8492 - val_acc: 0.7053\n",
      "Epoch 6/50\n",
      "50000/50000 [==============================] - 1369s 27ms/step - loss: 0.8141 - acc: 0.7136 - val_loss: 0.7828 - val_acc: 0.7291\n",
      "Epoch 7/50\n",
      "50000/50000 [==============================] - 1362s 27ms/step - loss: 0.7353 - acc: 0.7396 - val_loss: 0.7396 - val_acc: 0.7388\n",
      "Epoch 8/50\n",
      "50000/50000 [==============================] - 1354s 27ms/step - loss: 0.6719 - acc: 0.7614 - val_loss: 0.6993 - val_acc: 0.7574\n",
      "Epoch 9/50\n",
      "50000/50000 [==============================] - 1298s 26ms/step - loss: 0.6225 - acc: 0.7807 - val_loss: 0.6758 - val_acc: 0.7669\n",
      "Epoch 10/50\n",
      "50000/50000 [==============================] - 1274s 25ms/step - loss: 0.5760 - acc: 0.7973 - val_loss: 0.6743 - val_acc: 0.7688\n",
      "Epoch 11/50\n",
      "50000/50000 [==============================] - 1398s 28ms/step - loss: 0.5349 - acc: 0.8102 - val_loss: 0.6523 - val_acc: 0.7740\n",
      "Epoch 12/50\n",
      "50000/50000 [==============================] - 2502s 50ms/step - loss: 0.4988 - acc: 0.8242 - val_loss: 0.6540 - val_acc: 0.7763\n",
      "Epoch 13/50\n",
      "50000/50000 [==============================] - 2331s 47ms/step - loss: 0.4696 - acc: 0.8319 - val_loss: 0.6264 - val_acc: 0.7882\n",
      "Epoch 14/50\n",
      "50000/50000 [==============================] - 2343s 47ms/step - loss: 0.4400 - acc: 0.8426 - val_loss: 0.6241 - val_acc: 0.7889\n",
      "Epoch 15/50\n",
      "50000/50000 [==============================] - 2463s 49ms/step - loss: 0.4106 - acc: 0.8532 - val_loss: 0.6107 - val_acc: 0.7928\n",
      "Epoch 16/50\n",
      "50000/50000 [==============================] - 1735s 35ms/step - loss: 0.3864 - acc: 0.8615 - val_loss: 0.6000 - val_acc: 0.7964\n",
      "Epoch 17/50\n",
      "50000/50000 [==============================] - 1186s 24ms/step - loss: 0.3633 - acc: 0.8692 - val_loss: 0.6152 - val_acc: 0.7936\n",
      "Epoch 18/50\n",
      "50000/50000 [==============================] - 1263s 25ms/step - loss: 0.3447 - acc: 0.8770 - val_loss: 0.6097 - val_acc: 0.7995\n",
      "Epoch 19/50\n",
      "50000/50000 [==============================] - 1234s 25ms/step - loss: 0.3225 - acc: 0.8846 - val_loss: 0.6213 - val_acc: 0.8041\n",
      "Epoch 20/50\n",
      "50000/50000 [==============================] - 1260s 25ms/step - loss: 0.3066 - acc: 0.8921 - val_loss: 0.6374 - val_acc: 0.8011\n",
      "Epoch 21/50\n",
      "50000/50000 [==============================] - 1227s 25ms/step - loss: 0.2918 - acc: 0.8962 - val_loss: 0.6228 - val_acc: 0.8004\n",
      "Epoch 22/50\n",
      "50000/50000 [==============================] - 1233s 25ms/step - loss: 0.2748 - acc: 0.9011 - val_loss: 0.6310 - val_acc: 0.8072\n",
      "Epoch 23/50\n",
      "50000/50000 [==============================] - 1238s 25ms/step - loss: 0.2596 - acc: 0.9066 - val_loss: 0.6437 - val_acc: 0.8022\n",
      "Epoch 24/50\n",
      "50000/50000 [==============================] - 1247s 25ms/step - loss: 0.2466 - acc: 0.9124 - val_loss: 0.6500 - val_acc: 0.8015\n",
      "Epoch 25/50\n",
      "50000/50000 [==============================] - 1236s 25ms/step - loss: 0.2316 - acc: 0.9183 - val_loss: 0.6384 - val_acc: 0.8140\n",
      "Epoch 26/50\n",
      "50000/50000 [==============================] - 1245s 25ms/step - loss: 0.2229 - acc: 0.9193 - val_loss: 0.6438 - val_acc: 0.8096\n",
      "Epoch 27/50\n",
      "50000/50000 [==============================] - 1252s 25ms/step - loss: 0.2111 - acc: 0.9248 - val_loss: 0.6519 - val_acc: 0.8100\n",
      "Epoch 28/50\n",
      "50000/50000 [==============================] - 1247s 25ms/step - loss: 0.2017 - acc: 0.9271 - val_loss: 0.6603 - val_acc: 0.8093\n",
      "Epoch 29/50\n",
      "50000/50000 [==============================] - 1254s 25ms/step - loss: 0.1973 - acc: 0.9296 - val_loss: 0.6658 - val_acc: 0.8079\n",
      "Epoch 30/50\n",
      "50000/50000 [==============================] - 1245s 25ms/step - loss: 0.1813 - acc: 0.9352 - val_loss: 0.6732 - val_acc: 0.8090\n",
      "Epoch 31/50\n",
      "50000/50000 [==============================] - 1244s 25ms/step - loss: 0.1821 - acc: 0.9358 - val_loss: 0.6749 - val_acc: 0.8109\n",
      "Epoch 32/50\n",
      "50000/50000 [==============================] - 1247s 25ms/step - loss: 0.1715 - acc: 0.9387 - val_loss: 0.6772 - val_acc: 0.8132\n",
      "Epoch 33/50\n",
      "50000/50000 [==============================] - 1248s 25ms/step - loss: 0.1613 - acc: 0.9413 - val_loss: 0.6800 - val_acc: 0.8117\n",
      "Epoch 34/50\n",
      "50000/50000 [==============================] - 1253s 25ms/step - loss: 0.1556 - acc: 0.9453 - val_loss: 0.6796 - val_acc: 0.8156\n",
      "Epoch 35/50\n",
      "50000/50000 [==============================] - 1247s 25ms/step - loss: 0.1510 - acc: 0.9462 - val_loss: 0.6702 - val_acc: 0.8147\n",
      "Epoch 36/50\n",
      "50000/50000 [==============================] - 1247s 25ms/step - loss: 0.1454 - acc: 0.9477 - val_loss: 0.6932 - val_acc: 0.8113\n",
      "Epoch 37/50\n",
      "50000/50000 [==============================] - 1222s 24ms/step - loss: 0.1412 - acc: 0.9499 - val_loss: 0.7114 - val_acc: 0.8133\n",
      "Epoch 38/50\n",
      "50000/50000 [==============================] - 1247s 25ms/step - loss: 0.1316 - acc: 0.9530 - val_loss: 0.6965 - val_acc: 0.8151\n",
      "Epoch 39/50\n",
      "50000/50000 [==============================] - 1399s 28ms/step - loss: 0.1321 - acc: 0.9529 - val_loss: 0.7414 - val_acc: 0.8118\n",
      "Epoch 40/50\n",
      "50000/50000 [==============================] - 1135s 23ms/step - loss: 0.1272 - acc: 0.9552 - val_loss: 0.6989 - val_acc: 0.8149\n",
      "Epoch 41/50\n",
      "50000/50000 [==============================] - 1132s 23ms/step - loss: 0.1225 - acc: 0.9574 - val_loss: 0.7230 - val_acc: 0.8129\n",
      "Epoch 42/50\n",
      "50000/50000 [==============================] - 1139s 23ms/step - loss: 0.1209 - acc: 0.9574 - val_loss: 0.7236 - val_acc: 0.8118\n",
      "Epoch 43/50\n",
      "50000/50000 [==============================] - 1136s 23ms/step - loss: 0.1142 - acc: 0.9594 - val_loss: 0.7178 - val_acc: 0.8181\n",
      "Epoch 44/50\n",
      "50000/50000 [==============================] - 1242s 25ms/step - loss: 0.1106 - acc: 0.9601 - val_loss: 0.7180 - val_acc: 0.8175\n",
      "Epoch 45/50\n",
      "50000/50000 [==============================] - 1453s 29ms/step - loss: 0.1094 - acc: 0.9608 - val_loss: 0.7316 - val_acc: 0.8144\n",
      "Epoch 46/50\n",
      "50000/50000 [==============================] - 2022s 40ms/step - loss: 0.1050 - acc: 0.9626 - val_loss: 0.7294 - val_acc: 0.8183\n",
      "Epoch 47/50\n",
      "50000/50000 [==============================] - 1259s 25ms/step - loss: 0.1003 - acc: 0.9652 - val_loss: 0.7307 - val_acc: 0.8154\n",
      "Epoch 48/50\n",
      "50000/50000 [==============================] - 1348s 27ms/step - loss: 0.1001 - acc: 0.9645 - val_loss: 0.7485 - val_acc: 0.8134\n",
      "Epoch 49/50\n",
      "50000/50000 [==============================] - 1392s 28ms/step - loss: 0.0973 - acc: 0.9651 - val_loss: 0.7514 - val_acc: 0.8152\n",
      "Epoch 50/50\n",
      "50000/50000 [==============================] - 1192s 24ms/step - loss: 0.0950 - acc: 0.9668 - val_loss: 0.7505 - val_acc: 0.8150\n",
      "Accuracy: 81.50%\n"
     ]
    }
   ],
   "source": [
    "model = Sequential()\n",
    "model.add(Conv2D(32, (3, 3), input_shape=(3, 32, 32), activation='relu', padding='same'))\n",
    "model.add(Dropout(0.2))\n",
    "model.add(Conv2D(32, (3, 3), activation='relu', padding='same'))\n",
    "model.add(MaxPooling2D(pool_size=(2, 2)))\n",
    "model.add(Conv2D(64, (3, 3), activation='relu', padding='same'))\n",
    "model.add(Dropout(0.2))\n",
    "model.add(Conv2D(64, (3, 3), activation='relu', padding='same'))\n",
    "model.add(MaxPooling2D(pool_size=(2, 2)))\n",
    "model.add(Conv2D(128, (3, 3), activation='relu', padding='same'))\n",
    "model.add(Dropout(0.2))\n",
    "model.add(Conv2D(128, (3, 3), activation='relu', padding='same'))\n",
    "model.add(MaxPooling2D(pool_size=(2, 2)))\n",
    "model.add(Flatten())\n",
    "model.add(Dropout(0.2))\n",
    "model.add(Dense(1024, activation='relu', kernel_constraint=maxnorm(3)))\n",
    "model.add(Dropout(0.2))\n",
    "model.add(Dense(512, activation='relu', kernel_constraint=maxnorm(3)))\n",
    "model.add(Dropout(0.2))\n",
    "model.add(Dense(num_classes, activation='softmax'))\n",
    "# Compile mode\n",
    "epochs = 50\n",
    "lrate = 0.01\n",
    "decay = lrate/epochs\n",
    "sgd = SGD(lr=lrate, momentum=0.9, decay=decay, nesterov=False)\n",
    "model.compile(loss='categorical_crossentropy', optimizer=sgd, metrics=['accuracy'])\n",
    "print(model.summary())\n",
    "# Fit the model\n",
    "model.fit(X_train, y_train, validation_data=(X_test, y_test), epochs=epochs, batch_size=32)\n",
    "# Final evaluation of the model\n",
    "scores = model.evaluate(X_test, y_test, verbose=0)\n",
    "print(\"Accuracy: %.2f%%\" % (scores[1]*100))"
   ]
  },
  {
   "cell_type": "code",
   "execution_count": 3,
   "metadata": {},
   "outputs": [
    {
     "name": "stdout",
     "output_type": "stream",
     "text": [
      "[1.1266571e-06 3.2103833e-06 7.2125931e-07 9.9860966e-01 3.2890924e-08\n",
      " 1.3631319e-03 2.0934438e-06 3.4694019e-06 1.5385023e-05 1.1648735e-06]\n"
     ]
    }
   ],
   "source": [
    "class_pred = model.predict(X_test, batch_size=32)\n",
    "print(class_pred[0])"
   ]
  },
  {
   "cell_type": "code",
   "execution_count": 6,
   "metadata": {},
   "outputs": [
    {
     "name": "stdout",
     "output_type": "stream",
     "text": [
      "[3 8 8 ... 5 4 7]\n"
     ]
    }
   ],
   "source": [
    "import numpy as np\n",
    "labels_pred = np.argmax(class_pred,axis=1)\n",
    "print(labels_pred)"
   ]
  },
  {
   "cell_type": "code",
   "execution_count": 9,
   "metadata": {},
   "outputs": [
    {
     "name": "stdout",
     "output_type": "stream",
     "text": [
      "Accuracy: 81.50%\n"
     ]
    }
   ],
   "source": [
    "num_images = len(correct)\n",
    "print(\"Accuracy: %.2f%%\" % ((sum(correct)*100)/num_images))"
   ]
  },
  {
   "cell_type": "code",
   "execution_count": 3,
   "metadata": {},
   "outputs": [
    {
     "name": "stdout",
     "output_type": "stream",
     "text": [
      "[[0.9663807  0.         0.03361924 0.         0.         0.\n",
      "  0.         0.         0.         0.        ]]\n",
      "Class name: 0\n"
     ]
    },
    {
     "data": {
      "text/plain": [
       "Text(0.5,1,'0')"
      ]
     },
     "execution_count": 3,
     "metadata": {},
     "output_type": "execute_result"
    },
    {
     "data": {
      "image/png": "[encoded data removed]",
      "text/plain": [
       "<matplotlib.figure.Figure at 0x1112b1390>"
      ]
     },
     "metadata": {},
     "output_type": "display_data"
    }
   ],
   "source": [
    "from keras import backend as K\n",
    "from keras.models import load_model\n",
    "import numpy as np\n",
    "import matplotlib.pyplot as plt\n",
    "from keras.preprocessing.image import img_to_array , load_img\n",
    "model = load_model(\"modelmy5.h5\")\n",
    "img = load_img('test/778_airplane.png')\n",
    "plt.imshow(img)\n",
    "x = img_to_array(img) \n",
    "x = np.expand_dims(x, axis=0)\n",
    "x = np.transpose(x, (0, 3, 2, 1))\n",
    "prediction = model.predict(x)\n",
    "print(prediction)\n",
    "classes = model.predict_classes(x, batch_size=32)\n",
    "pred = classes[0]\n",
    "print(\"Class name:\",pred)\n",
    "plt.title(pred)"
   ]
  },
  {
   "cell_type": "code",
   "execution_count": null,
   "metadata": {},
   "outputs": [],
   "source": []
  }
 ],
 "metadata": {
  "kernelspec": {
   "display_name": "Python 3",
   "language": "python",
   "name": "python3"
  },
  "language_info": {
   "codemirror_mode": {
    "name": "ipython",
    "version": 3
   },
   "file_extension": ".py",
   "mimetype": "text/x-python",
   "name": "python",
   "nbconvert_exporter": "python",
   "pygments_lexer": "ipython3",
   "version": "3.6.4"
  }
 },
 "nbformat": 4,
 "nbformat_minor": 2
}
